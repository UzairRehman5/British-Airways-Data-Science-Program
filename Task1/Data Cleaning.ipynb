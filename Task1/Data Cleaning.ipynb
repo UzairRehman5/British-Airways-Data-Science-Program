{
 "cells": [
  {
   "cell_type": "code",
   "execution_count": 146,
   "id": "e1d76a11",
   "metadata": {},
   "outputs": [],
   "source": [
    "# Importing libraries\n",
    "\n",
    "import pandas as pd\n",
    "import numpy as np\n",
    "import seaborn as sns\n",
    "\n",
    "import random"
   ]
  },
  {
   "cell_type": "code",
   "execution_count": 147,
   "id": "1f08acb6",
   "metadata": {},
   "outputs": [
    {
     "data": {
      "text/html": [
       "<div>\n",
       "<style scoped>\n",
       "    .dataframe tbody tr th:only-of-type {\n",
       "        vertical-align: middle;\n",
       "    }\n",
       "\n",
       "    .dataframe tbody tr th {\n",
       "        vertical-align: top;\n",
       "    }\n",
       "\n",
       "    .dataframe thead th {\n",
       "        text-align: right;\n",
       "    }\n",
       "</style>\n",
       "<table border=\"1\" class=\"dataframe\">\n",
       "  <thead>\n",
       "    <tr style=\"text-align: right;\">\n",
       "      <th></th>\n",
       "      <th>Aircraft</th>\n",
       "      <th>Type Of Traveller</th>\n",
       "      <th>Seat Type</th>\n",
       "      <th>Route</th>\n",
       "      <th>Date Flown</th>\n",
       "      <th>Seat Comfort</th>\n",
       "      <th>Cabin Staff Service</th>\n",
       "      <th>Food &amp; Beverages</th>\n",
       "      <th>Ground Service</th>\n",
       "      <th>Wifi &amp; Connectivity</th>\n",
       "      <th>Value For Money</th>\n",
       "      <th>Recommended</th>\n",
       "      <th>Inflight Entertainment</th>\n",
       "    </tr>\n",
       "  </thead>\n",
       "  <tbody>\n",
       "    <tr>\n",
       "      <th>0</th>\n",
       "      <td>A320</td>\n",
       "      <td>Couple Leisure</td>\n",
       "      <td>Business Class</td>\n",
       "      <td>Tenerife to Gatwick</td>\n",
       "      <td>August 2023</td>\n",
       "      <td>1.0</td>\n",
       "      <td>3.0</td>\n",
       "      <td>1.0</td>\n",
       "      <td>1.0</td>\n",
       "      <td>1.0</td>\n",
       "      <td>1</td>\n",
       "      <td>no</td>\n",
       "      <td>NaN</td>\n",
       "    </tr>\n",
       "    <tr>\n",
       "      <th>1</th>\n",
       "      <td>A320</td>\n",
       "      <td>Business</td>\n",
       "      <td>Business Class</td>\n",
       "      <td>London Heathrow to Malaga</td>\n",
       "      <td>August 2023</td>\n",
       "      <td>2.0</td>\n",
       "      <td>2.0</td>\n",
       "      <td>2.0</td>\n",
       "      <td>1.0</td>\n",
       "      <td>1.0</td>\n",
       "      <td>2</td>\n",
       "      <td>no</td>\n",
       "      <td>NaN</td>\n",
       "    </tr>\n",
       "    <tr>\n",
       "      <th>2</th>\n",
       "      <td>NaN</td>\n",
       "      <td>Couple Leisure</td>\n",
       "      <td>Economy Class</td>\n",
       "      <td>Newark to London</td>\n",
       "      <td>June 2023</td>\n",
       "      <td>NaN</td>\n",
       "      <td>NaN</td>\n",
       "      <td>NaN</td>\n",
       "      <td>NaN</td>\n",
       "      <td>NaN</td>\n",
       "      <td>1</td>\n",
       "      <td>no</td>\n",
       "      <td>NaN</td>\n",
       "    </tr>\n",
       "    <tr>\n",
       "      <th>3</th>\n",
       "      <td>NaN</td>\n",
       "      <td>Business</td>\n",
       "      <td>Business Class</td>\n",
       "      <td>London to Johannesburg</td>\n",
       "      <td>August 2023</td>\n",
       "      <td>3.0</td>\n",
       "      <td>2.0</td>\n",
       "      <td>NaN</td>\n",
       "      <td>2.0</td>\n",
       "      <td>NaN</td>\n",
       "      <td>1</td>\n",
       "      <td>no</td>\n",
       "      <td>NaN</td>\n",
       "    </tr>\n",
       "    <tr>\n",
       "      <th>4</th>\n",
       "      <td>Boeing 777-300</td>\n",
       "      <td>Couple Leisure</td>\n",
       "      <td>Business Class</td>\n",
       "      <td>LHR to LAX</td>\n",
       "      <td>August 2023</td>\n",
       "      <td>4.0</td>\n",
       "      <td>5.0</td>\n",
       "      <td>3.0</td>\n",
       "      <td>5.0</td>\n",
       "      <td>NaN</td>\n",
       "      <td>4</td>\n",
       "      <td>yes</td>\n",
       "      <td>5.0</td>\n",
       "    </tr>\n",
       "    <tr>\n",
       "      <th>...</th>\n",
       "      <td>...</td>\n",
       "      <td>...</td>\n",
       "      <td>...</td>\n",
       "      <td>...</td>\n",
       "      <td>...</td>\n",
       "      <td>...</td>\n",
       "      <td>...</td>\n",
       "      <td>...</td>\n",
       "      <td>...</td>\n",
       "      <td>...</td>\n",
       "      <td>...</td>\n",
       "      <td>...</td>\n",
       "      <td>...</td>\n",
       "    </tr>\n",
       "    <tr>\n",
       "      <th>3495</th>\n",
       "      <td>NaN</td>\n",
       "      <td>NaN</td>\n",
       "      <td>Economy Class</td>\n",
       "      <td>NaN</td>\n",
       "      <td>NaN</td>\n",
       "      <td>4.0</td>\n",
       "      <td>3.0</td>\n",
       "      <td>1.0</td>\n",
       "      <td>NaN</td>\n",
       "      <td>NaN</td>\n",
       "      <td>1</td>\n",
       "      <td>no</td>\n",
       "      <td>3.0</td>\n",
       "    </tr>\n",
       "    <tr>\n",
       "      <th>3496</th>\n",
       "      <td>NaN</td>\n",
       "      <td>NaN</td>\n",
       "      <td>Business Class</td>\n",
       "      <td>NaN</td>\n",
       "      <td>NaN</td>\n",
       "      <td>4.0</td>\n",
       "      <td>2.0</td>\n",
       "      <td>4.0</td>\n",
       "      <td>NaN</td>\n",
       "      <td>NaN</td>\n",
       "      <td>5</td>\n",
       "      <td>yes</td>\n",
       "      <td>3.0</td>\n",
       "    </tr>\n",
       "    <tr>\n",
       "      <th>3497</th>\n",
       "      <td>NaN</td>\n",
       "      <td>NaN</td>\n",
       "      <td>Business Class</td>\n",
       "      <td>NaN</td>\n",
       "      <td>NaN</td>\n",
       "      <td>5.0</td>\n",
       "      <td>5.0</td>\n",
       "      <td>4.0</td>\n",
       "      <td>NaN</td>\n",
       "      <td>NaN</td>\n",
       "      <td>5</td>\n",
       "      <td>yes</td>\n",
       "      <td>4.0</td>\n",
       "    </tr>\n",
       "    <tr>\n",
       "      <th>3498</th>\n",
       "      <td>NaN</td>\n",
       "      <td>NaN</td>\n",
       "      <td>Premium Economy</td>\n",
       "      <td>NaN</td>\n",
       "      <td>NaN</td>\n",
       "      <td>3.0</td>\n",
       "      <td>4.0</td>\n",
       "      <td>3.0</td>\n",
       "      <td>NaN</td>\n",
       "      <td>NaN</td>\n",
       "      <td>3</td>\n",
       "      <td>no</td>\n",
       "      <td>1.0</td>\n",
       "    </tr>\n",
       "    <tr>\n",
       "      <th>3499</th>\n",
       "      <td>NaN</td>\n",
       "      <td>NaN</td>\n",
       "      <td>Business Class</td>\n",
       "      <td>NaN</td>\n",
       "      <td>NaN</td>\n",
       "      <td>5.0</td>\n",
       "      <td>5.0</td>\n",
       "      <td>4.0</td>\n",
       "      <td>NaN</td>\n",
       "      <td>NaN</td>\n",
       "      <td>4</td>\n",
       "      <td>yes</td>\n",
       "      <td>1.0</td>\n",
       "    </tr>\n",
       "  </tbody>\n",
       "</table>\n",
       "<p>3500 rows × 13 columns</p>\n",
       "</div>"
      ],
      "text/plain": [
       "            Aircraft Type Of Traveller        Seat Type  \\\n",
       "0               A320    Couple Leisure   Business Class   \n",
       "1               A320          Business   Business Class   \n",
       "2                NaN    Couple Leisure    Economy Class   \n",
       "3                NaN          Business   Business Class   \n",
       "4     Boeing 777-300    Couple Leisure   Business Class   \n",
       "...              ...               ...              ...   \n",
       "3495             NaN               NaN    Economy Class   \n",
       "3496             NaN               NaN   Business Class   \n",
       "3497             NaN               NaN   Business Class   \n",
       "3498             NaN               NaN  Premium Economy   \n",
       "3499             NaN               NaN   Business Class   \n",
       "\n",
       "                           Route   Date Flown  Seat Comfort  \\\n",
       "0            Tenerife to Gatwick  August 2023           1.0   \n",
       "1     London Heathrow to Malaga   August 2023           2.0   \n",
       "2               Newark to London    June 2023           NaN   \n",
       "3         London to Johannesburg  August 2023           3.0   \n",
       "4                     LHR to LAX  August 2023           4.0   \n",
       "...                          ...          ...           ...   \n",
       "3495                         NaN          NaN           4.0   \n",
       "3496                         NaN          NaN           4.0   \n",
       "3497                         NaN          NaN           5.0   \n",
       "3498                         NaN          NaN           3.0   \n",
       "3499                         NaN          NaN           5.0   \n",
       "\n",
       "      Cabin Staff Service  Food & Beverages  Ground Service  \\\n",
       "0                     3.0               1.0             1.0   \n",
       "1                     2.0               2.0             1.0   \n",
       "2                     NaN               NaN             NaN   \n",
       "3                     2.0               NaN             2.0   \n",
       "4                     5.0               3.0             5.0   \n",
       "...                   ...               ...             ...   \n",
       "3495                  3.0               1.0             NaN   \n",
       "3496                  2.0               4.0             NaN   \n",
       "3497                  5.0               4.0             NaN   \n",
       "3498                  4.0               3.0             NaN   \n",
       "3499                  5.0               4.0             NaN   \n",
       "\n",
       "      Wifi & Connectivity  Value For Money Recommended  Inflight Entertainment  \n",
       "0                     1.0                1          no                     NaN  \n",
       "1                     1.0                2          no                     NaN  \n",
       "2                     NaN                1          no                     NaN  \n",
       "3                     NaN                1          no                     NaN  \n",
       "4                     NaN                4         yes                     5.0  \n",
       "...                   ...              ...         ...                     ...  \n",
       "3495                  NaN                1          no                     3.0  \n",
       "3496                  NaN                5         yes                     3.0  \n",
       "3497                  NaN                5         yes                     4.0  \n",
       "3498                  NaN                3          no                     1.0  \n",
       "3499                  NaN                4         yes                     1.0  \n",
       "\n",
       "[3500 rows x 13 columns]"
      ]
     },
     "execution_count": 147,
     "metadata": {},
     "output_type": "execute_result"
    }
   ],
   "source": [
    "# Importing dataset\n",
    "df = pd.read_csv(\"df.csv\")\n",
    "df"
   ]
  },
  {
   "cell_type": "code",
   "execution_count": 148,
   "id": "c40590ba",
   "metadata": {},
   "outputs": [
    {
     "data": {
      "text/plain": [
       "(3500, 13)"
      ]
     },
     "execution_count": 148,
     "metadata": {},
     "output_type": "execute_result"
    }
   ],
   "source": [
    "# Shape of the dataset\n",
    "df.shape"
   ]
  },
  {
   "cell_type": "code",
   "execution_count": 149,
   "id": "41277c45",
   "metadata": {},
   "outputs": [
    {
     "name": "stdout",
     "output_type": "stream",
     "text": [
      "<class 'pandas.core.frame.DataFrame'>\n",
      "RangeIndex: 3500 entries, 0 to 3499\n",
      "Data columns (total 13 columns):\n",
      " #   Column                  Non-Null Count  Dtype  \n",
      "---  ------                  --------------  -----  \n",
      " 0   Aircraft                1886 non-null   object \n",
      " 1   Type Of Traveller       2863 non-null   object \n",
      " 2   Seat Type               3498 non-null   object \n",
      " 3   Route                   2858 non-null   object \n",
      " 4   Date Flown              2855 non-null   object \n",
      " 5   Seat Comfort            3390 non-null   float64\n",
      " 6   Cabin Staff Service     3380 non-null   float64\n",
      " 7   Food & Beverages        3129 non-null   float64\n",
      " 8   Ground Service          2789 non-null   float64\n",
      " 9   Wifi & Connectivity     582 non-null    float64\n",
      " 10  Value For Money         3500 non-null   int64  \n",
      " 11  Recommended             3500 non-null   object \n",
      " 12  Inflight Entertainment  2393 non-null   float64\n",
      "dtypes: float64(6), int64(1), object(6)\n",
      "memory usage: 355.6+ KB\n"
     ]
    }
   ],
   "source": [
    "# Information regarding dataset\n",
    "df.info()"
   ]
  },
  {
   "cell_type": "code",
   "execution_count": 150,
   "id": "de692a07",
   "metadata": {},
   "outputs": [
    {
     "data": {
      "text/plain": [
       "Aircraft                  1614\n",
       "Type Of Traveller          637\n",
       "Seat Type                    2\n",
       "Route                      642\n",
       "Date Flown                 645\n",
       "Seat Comfort               110\n",
       "Cabin Staff Service        120\n",
       "Food & Beverages           371\n",
       "Ground Service             711\n",
       "Wifi & Connectivity       2918\n",
       "Value For Money              0\n",
       "Recommended                  0\n",
       "Inflight Entertainment    1107\n",
       "dtype: int64"
      ]
     },
     "execution_count": 150,
     "metadata": {},
     "output_type": "execute_result"
    }
   ],
   "source": [
    "# Null values in dataset?\n",
    "df.isnull().sum()"
   ]
  },
  {
   "cell_type": "code",
   "execution_count": 151,
   "id": "bb885a2d",
   "metadata": {},
   "outputs": [
    {
     "data": {
      "text/plain": [
       "Aircraft                  46.114286\n",
       "Type Of Traveller         18.200000\n",
       "Seat Type                  0.057143\n",
       "Route                     18.342857\n",
       "Date Flown                18.428571\n",
       "Seat Comfort               3.142857\n",
       "Cabin Staff Service        3.428571\n",
       "Food & Beverages          10.600000\n",
       "Ground Service            20.314286\n",
       "Wifi & Connectivity       83.371429\n",
       "Value For Money            0.000000\n",
       "Recommended                0.000000\n",
       "Inflight Entertainment    31.628571\n",
       "dtype: float64"
      ]
     },
     "execution_count": 151,
     "metadata": {},
     "output_type": "execute_result"
    }
   ],
   "source": [
    "# Checking the percentage of data missing in each column\n",
    "df.isnull().mean()*100"
   ]
  },
  {
   "cell_type": "markdown",
   "id": "9311f8d9",
   "metadata": {},
   "source": [
    "# Dropping duplicate values"
   ]
  },
  {
   "cell_type": "code",
   "execution_count": 152,
   "id": "abb81708",
   "metadata": {},
   "outputs": [
    {
     "data": {
      "text/plain": [
       "162"
      ]
     },
     "execution_count": 152,
     "metadata": {},
     "output_type": "execute_result"
    }
   ],
   "source": [
    "# Is there any duplicate value in dataset?\n",
    "df.duplicated().sum()"
   ]
  },
  {
   "cell_type": "code",
   "execution_count": 153,
   "id": "91a63a7b",
   "metadata": {},
   "outputs": [],
   "source": [
    "# Dropping the duplicate value\n",
    "df = df.drop_duplicates()"
   ]
  },
  {
   "cell_type": "markdown",
   "id": "03001509",
   "metadata": {},
   "source": [
    "# Data Cleaning on 'Aircraft' column"
   ]
  },
  {
   "cell_type": "code",
   "execution_count": 154,
   "id": "115ce79b",
   "metadata": {},
   "outputs": [
    {
     "name": "stderr",
     "output_type": "stream",
     "text": [
      "C:\\Users\\dell\\AppData\\Local\\Temp\\ipykernel_5696\\2451935790.py:2: SettingWithCopyWarning: \n",
      "A value is trying to be set on a copy of a slice from a DataFrame.\n",
      "Try using .loc[row_indexer,col_indexer] = value instead\n",
      "\n",
      "See the caveats in the documentation: https://pandas.pydata.org/pandas-docs/stable/user_guide/indexing.html#returning-a-view-versus-a-copy\n",
      "  df['Aircraft'] = df['Aircraft'].fillna(\"Not available\")\n"
     ]
    }
   ],
   "source": [
    "# Fill missing values in the 'Aircraft' column with \"Not available\"\n",
    "df['Aircraft'] = df['Aircraft'].fillna(\"Not available\")"
   ]
  },
  {
   "cell_type": "code",
   "execution_count": 155,
   "id": "288b8077",
   "metadata": {},
   "outputs": [
    {
     "data": {
      "text/plain": [
       "Not available              1456\n",
       "A320                        348\n",
       "Boeing 777                  266\n",
       "Boeing 747-400              181\n",
       "A380                        164\n",
       "                           ... \n",
       "Boeing 777-300ER / A320       1\n",
       "Boeing 747 / A320             1\n",
       "A230                          1\n",
       "A380 and 747                  1\n",
       "Airbus 319                    1\n",
       "Name: Aircraft, Length: 200, dtype: int64"
      ]
     },
     "execution_count": 155,
     "metadata": {},
     "output_type": "execute_result"
    }
   ],
   "source": [
    "# Count the occurrences of each aircraft type in the 'Aircraft' column\n",
    "df['Aircraft'].value_counts()"
   ]
  },
  {
   "cell_type": "code",
   "execution_count": 156,
   "id": "277dbb9f",
   "metadata": {},
   "outputs": [
    {
     "name": "stdout",
     "output_type": "stream",
     "text": [
      "Number of aircrafts occurring less than 40 times : 189\n"
     ]
    }
   ],
   "source": [
    "# Calculate the value counts for the 'Aircraft' column\n",
    "value_counts = df['Aircraft'].value_counts()\n",
    "\n",
    "# Extract values occurring less than 40 times\n",
    "values_less_than_40 = value_counts[value_counts < 40].index.tolist()\n",
    "\n",
    "# Print the number of values occurring less than 40 times\n",
    "print(\"Number of aircrafts occurring less than 40 times :\", len(values_less_than_40))"
   ]
  },
  {
   "cell_type": "code",
   "execution_count": 157,
   "id": "aed231c6",
   "metadata": {},
   "outputs": [
    {
     "name": "stderr",
     "output_type": "stream",
     "text": [
      "C:\\Users\\dell\\AppData\\Local\\Temp\\ipykernel_5696\\3484987325.py:8: SettingWithCopyWarning: \n",
      "A value is trying to be set on a copy of a slice from a DataFrame.\n",
      "Try using .loc[row_indexer,col_indexer] = value instead\n",
      "\n",
      "See the caveats in the documentation: https://pandas.pydata.org/pandas-docs/stable/user_guide/indexing.html#returning-a-view-versus-a-copy\n",
      "  df['Aircraft'] = df['Aircraft'].apply(lambda x: 'Other' if x in values_less_than_40 else x)\n"
     ]
    }
   ],
   "source": [
    "# Count the occurrences of each aircraft type in the DataFrame\n",
    "value_counts = df['Aircraft'].value_counts()\n",
    "\n",
    "# Extract values occurring less than 40 times\n",
    "values_less_than_40 = value_counts[value_counts < 40].index.tolist()\n",
    "\n",
    "# Replace values less than 40 with 'Other'\n",
    "df['Aircraft'] = df['Aircraft'].apply(lambda x: 'Other' if x in values_less_than_40 else x)"
   ]
  },
  {
   "cell_type": "code",
   "execution_count": 158,
   "id": "547f94d4",
   "metadata": {},
   "outputs": [
    {
     "data": {
      "text/plain": [
       "<AxesSubplot:>"
      ]
     },
     "execution_count": 158,
     "metadata": {},
     "output_type": "execute_result"
    },
    {
     "data": {
      "image/png": "[encoded data removed]",
      "text/plain": [
       "<Figure size 432x288 with 1 Axes>"
      ]
     },
     "metadata": {
      "needs_background": "light"
     },
     "output_type": "display_data"
    }
   ],
   "source": [
    "# This code snippet is used to create a bar chart showing the counts of unique values in the 'Aircraft' column of the 'df'.\n",
    "# First, we use df['Aircraft'].value_counts() to count the occurrences of each unique value in the 'Aircraft' column.\n",
    "# Then, we use .plot(kind='bar') to create a bar chart from the value counts data.\n",
    "\n",
    "df['Aircraft'].value_counts().plot(kind='bar')"
   ]
  },
  {
   "cell_type": "markdown",
   "id": "ba0c4e0d",
   "metadata": {},
   "source": [
    "# Data Cleaning on 'Type Of Traveller' column"
   ]
  },
  {
   "cell_type": "code",
   "execution_count": 159,
   "id": "950b4d08",
   "metadata": {},
   "outputs": [
    {
     "data": {
      "text/plain": [
       "480"
      ]
     },
     "execution_count": 159,
     "metadata": {},
     "output_type": "execute_result"
    }
   ],
   "source": [
    "# Count the number of null values in the 'Type Of Traveller' column\n",
    "df['Type Of Traveller'].isnull().sum()"
   ]
  },
  {
   "cell_type": "code",
   "execution_count": 160,
   "id": "120993fa",
   "metadata": {},
   "outputs": [
    {
     "data": {
      "text/plain": [
       "Couple Leisure    962\n",
       "Solo Leisure      873\n",
       "Business          629\n",
       "Family Leisure    394\n",
       "Name: Type Of Traveller, dtype: int64"
      ]
     },
     "execution_count": 160,
     "metadata": {},
     "output_type": "execute_result"
    }
   ],
   "source": [
    "# Count the occurrences of each unique value in the 'Type Of Traveller' column\n",
    "df['Type Of Traveller'].value_counts()"
   ]
  },
  {
   "cell_type": "code",
   "execution_count": 161,
   "id": "d8f31a6e",
   "metadata": {},
   "outputs": [],
   "source": [
    "# Create a list of existing values in the 'Type Of Traveller' column without NaNs\n",
    "existing = df['Type Of Traveller'].dropna().tolist()\n",
    "\n",
    "# Fill missing values with existing random values\n",
    "for index, row in df.iterrows():\n",
    "    if pd.isna(row['Type Of Traveller']):\n",
    "        df.at[index, 'Type Of Traveller'] = random.choice(existing)"
   ]
  },
  {
   "cell_type": "code",
   "execution_count": 162,
   "id": "c7b560df",
   "metadata": {},
   "outputs": [
    {
     "data": {
      "text/plain": [
       "Couple Leisure    1127\n",
       "Solo Leisure      1032\n",
       "Business           722\n",
       "Family Leisure     457\n",
       "Name: Type Of Traveller, dtype: int64"
      ]
     },
     "execution_count": 162,
     "metadata": {},
     "output_type": "execute_result"
    }
   ],
   "source": [
    "# Count the occurrences of each unique value in the 'Type Of Traveller' column\n",
    "df['Type Of Traveller'].value_counts()"
   ]
  },
  {
   "cell_type": "code",
   "execution_count": 163,
   "id": "7891dede",
   "metadata": {},
   "outputs": [
    {
     "data": {
      "text/plain": [
       "<AxesSubplot:>"
      ]
     },
     "execution_count": 163,
     "metadata": {},
     "output_type": "execute_result"
    },
    {
     "data": {
      "image/png": "[encoded data removed]",
      "text/plain": [
       "<Figure size 432x288 with 1 Axes>"
      ]
     },
     "metadata": {
      "needs_background": "light"
     },
     "output_type": "display_data"
    }
   ],
   "source": [
    "# Plotting a bar chart to visualize the count of different types of travelers\n",
    "df['Type Of Traveller'].value_counts().plot(kind='bar')"
   ]
  },
  {
   "cell_type": "markdown",
   "id": "e0a5b5b7",
   "metadata": {},
   "source": [
    "# Data Cleaning on 'Seat Type' column"
   ]
  },
  {
   "cell_type": "code",
   "execution_count": 164,
   "id": "53ba2fdd",
   "metadata": {},
   "outputs": [
    {
     "data": {
      "text/plain": [
       "2"
      ]
     },
     "execution_count": 164,
     "metadata": {},
     "output_type": "execute_result"
    }
   ],
   "source": [
    "# Count the number of missing (null) values in the 'Seat Type' column of DataFrame 'df'\n",
    "df['Seat Type'].isnull().sum()"
   ]
  },
  {
   "cell_type": "code",
   "execution_count": 165,
   "id": "3cdbf043",
   "metadata": {},
   "outputs": [],
   "source": [
    "# Extract the existing non-null values of 'Seat Type' and convert them to a list\n",
    "existing = df['Seat Type'].dropna().tolist()\n",
    "\n",
    "# Fill missing values in 'Seat Type' with random values from the existing list\n",
    "for index, row in df.iterrows():\n",
    "    if pd.isna(row['Seat Type']):\n",
    "        df.at[index, 'Seat Type'] = random.choice(existing)"
   ]
  },
  {
   "cell_type": "code",
   "execution_count": 166,
   "id": "3e49525f",
   "metadata": {},
   "outputs": [],
   "source": [
    "# Count the occurrences of each unique value in the 'Seat Type' column of the DataFrame 'df'\n",
    "seat_type_counts = df['Seat Type'].value_counts()"
   ]
  },
  {
   "cell_type": "code",
   "execution_count": 167,
   "id": "30d2490e",
   "metadata": {},
   "outputs": [
    {
     "data": {
      "text/plain": [
       "<AxesSubplot:>"
      ]
     },
     "execution_count": 167,
     "metadata": {},
     "output_type": "execute_result"
    },
    {
     "data": {
      "image/png": "[encoded data removed]",
      "text/plain": [
       "<Figure size 432x288 with 1 Axes>"
      ]
     },
     "metadata": {
      "needs_background": "light"
     },
     "output_type": "display_data"
    }
   ],
   "source": [
    "# Plot a bar chart to visualize the counts of different seat types in the 'Seat Type' column of the DataFrame 'df'.\n",
    "df['Seat Type'].value_counts().plot(kind='bar')"
   ]
  },
  {
   "cell_type": "markdown",
   "id": "d595762a",
   "metadata": {},
   "source": [
    "# Data Cleaning on 'Route' column"
   ]
  },
  {
   "cell_type": "code",
   "execution_count": 168,
   "id": "8c692103",
   "metadata": {},
   "outputs": [
    {
     "data": {
      "text/plain": [
       "485"
      ]
     },
     "execution_count": 168,
     "metadata": {},
     "output_type": "execute_result"
    }
   ],
   "source": [
    "# Count the number of missing (null) values in the 'Route' column of DataFrame 'df'\n",
    "df['Route'].isnull().sum()"
   ]
  },
  {
   "cell_type": "code",
   "execution_count": 169,
   "id": "ee840865",
   "metadata": {},
   "outputs": [
    {
     "data": {
      "text/plain": [
       "London to Johannesburg               17\n",
       "London to Cape Town                  15\n",
       "BKK to LHR                           13\n",
       "Cape Town to London                  13\n",
       "Johannesburg to London               13\n",
       "                                     ..\n",
       "London Gatwick to Tirana Rinas        1\n",
       "London Heathrow to Seattle Tacoma     1\n",
       "Heathrow to Milan                     1\n",
       "New York to Nairobi via London        1\n",
       "BOM-LHR                               1\n",
       "Name: Route, Length: 1562, dtype: int64"
      ]
     },
     "execution_count": 169,
     "metadata": {},
     "output_type": "execute_result"
    }
   ],
   "source": [
    "# Count the occurrences of each unique value in the 'Route' column\n",
    "df['Route'].value_counts()"
   ]
  },
  {
   "cell_type": "code",
   "execution_count": 170,
   "id": "4d18be6d",
   "metadata": {},
   "outputs": [],
   "source": [
    "# Create a list of existing routes without missing values\n",
    "existing = df['Route'].dropna().tolist()\n",
    "\n",
    "# Fill missing values with random values from the existing routes\n",
    "for index, row in df.iterrows():\n",
    "    if pd.isna(row['Route']):\n",
    "        df.at[index, 'Route'] = random.choice(existing)"
   ]
  },
  {
   "cell_type": "code",
   "execution_count": 171,
   "id": "a5863d2b",
   "metadata": {},
   "outputs": [
    {
     "name": "stderr",
     "output_type": "stream",
     "text": [
      "C:\\Users\\dell\\AppData\\Local\\Temp\\ipykernel_5696\\2339589395.py:8: SettingWithCopyWarning: \n",
      "A value is trying to be set on a copy of a slice from a DataFrame.\n",
      "Try using .loc[row_indexer,col_indexer] = value instead\n",
      "\n",
      "See the caveats in the documentation: https://pandas.pydata.org/pandas-docs/stable/user_guide/indexing.html#returning-a-view-versus-a-copy\n",
      "  df['Route'] = df['Route'].apply(lambda x: 'Other' if x in values_less_than_12 else x)\n"
     ]
    }
   ],
   "source": [
    "# Calculate the count of each unique value in the 'Route' column\n",
    "value_counts = df['Route'].value_counts()\n",
    "\n",
    "# Extract values occurring less than 12 times\n",
    "values_less_than_12 = value_counts[value_counts < 12].index.tolist()\n",
    "\n",
    "# Replace values less than 12 with 'Other'\n",
    "df['Route'] = df['Route'].apply(lambda x: 'Other' if x in values_less_than_12 else x)"
   ]
  },
  {
   "cell_type": "code",
   "execution_count": 172,
   "id": "7314f830",
   "metadata": {},
   "outputs": [
    {
     "data": {
      "text/plain": [
       "Other                     3172\n",
       "London to Johannesburg      22\n",
       "London to Hong Kong         17\n",
       "London to Cape Town         17\n",
       "Vancouver to London         16\n",
       "Johannesburg to London      15\n",
       "Cape Town to London         14\n",
       "LHR to MIA                  14\n",
       "London to Athens            13\n",
       "LHR to HKG                  13\n",
       "BKK to LHR                  13\n",
       "New York to London          12\n",
       "Name: Route, dtype: int64"
      ]
     },
     "execution_count": 172,
     "metadata": {},
     "output_type": "execute_result"
    }
   ],
   "source": [
    "# Count the occurrences of each unique value in the 'Route' column\n",
    "df['Route'].value_counts()"
   ]
  },
  {
   "cell_type": "markdown",
   "id": "2498ef1c",
   "metadata": {},
   "source": [
    "# Data Cleaning on 'Date Flown' column"
   ]
  },
  {
   "cell_type": "code",
   "execution_count": 173,
   "id": "388970b3",
   "metadata": {},
   "outputs": [
    {
     "data": {
      "text/plain": [
       "August 2015       82\n",
       "September 2015    78\n",
       "April 2017        65\n",
       "October 2015      64\n",
       "November 2015     64\n",
       "                  ..\n",
       "November 2014      2\n",
       "October 2014       1\n",
       "June 2020          1\n",
       "August 2014        1\n",
       "July 2014          1\n",
       "Name: Date Flown, Length: 109, dtype: int64"
      ]
     },
     "execution_count": 173,
     "metadata": {},
     "output_type": "execute_result"
    }
   ],
   "source": [
    "# Count the occurrences of each date in the 'Date Flown' column\n",
    "df['Date Flown'].value_counts()"
   ]
  },
  {
   "cell_type": "code",
   "execution_count": 174,
   "id": "ec42ce19",
   "metadata": {},
   "outputs": [],
   "source": [
    "# Create a list of existing dates from the 'Date Flown' column without NaN values\n",
    "existing = df['Date Flown'].dropna().tolist()\n",
    "\n",
    "# Fill missing values with random dates from the existing routes\n",
    "for index, row in df.iterrows():\n",
    "    if pd.isna(row['Date Flown']):\n",
    "        df.at[index, 'Date Flown'] = random.choice(existing)"
   ]
  },
  {
   "cell_type": "code",
   "execution_count": 175,
   "id": "6ceecc51",
   "metadata": {},
   "outputs": [
    {
     "name": "stderr",
     "output_type": "stream",
     "text": [
      "C:\\Users\\dell\\AppData\\Local\\Temp\\ipykernel_5696\\1927361504.py:8: SettingWithCopyWarning: \n",
      "A value is trying to be set on a copy of a slice from a DataFrame.\n",
      "Try using .loc[row_indexer,col_indexer] = value instead\n",
      "\n",
      "See the caveats in the documentation: https://pandas.pydata.org/pandas-docs/stable/user_guide/indexing.html#returning-a-view-versus-a-copy\n",
      "  df['Date Flown'] = df['Date Flown'].apply(lambda x: 'Other' if x in values_less_than_35 else x)\n"
     ]
    }
   ],
   "source": [
    "# Count the occurrences of each date in the 'Date Flown' column\n",
    "value_counts = df['Date Flown'].value_counts()\n",
    "\n",
    "# Extract values occurring less than 35 times\n",
    "values_less_than_35 = value_counts[value_counts < 35].index.tolist()\n",
    "\n",
    "# Replace values less than 35 with 'Other'\n",
    "df['Date Flown'] = df['Date Flown'].apply(lambda x: 'Other' if x in values_less_than_35 else x)"
   ]
  },
  {
   "cell_type": "code",
   "execution_count": 176,
   "id": "4f75eabe",
   "metadata": {},
   "outputs": [
    {
     "data": {
      "text/plain": [
       "Other             1057\n",
       "August 2015         99\n",
       "September 2015      91\n",
       "November 2015       82\n",
       "April 2017          80\n",
       "December 2015       72\n",
       "October 2015        71\n",
       "January 2017        69\n",
       "July 2015           68\n",
       "June 2017           67\n",
       "November 2016       66\n",
       "September 2016      65\n",
       "December 2016       63\n",
       "October 2016        62\n",
       "March 2016          62\n",
       "February 2017       62\n",
       "March 2017          58\n",
       "August 2016         56\n",
       "May 2016            55\n",
       "October 2017        55\n",
       "May 2017            52\n",
       "July 2017           51\n",
       "August 2017         50\n",
       "September 2017      50\n",
       "January 2016        49\n",
       "February 2016       48\n",
       "June 2016           45\n",
       "April 2016          45\n",
       "November 2017       43\n",
       "July 2016           43\n",
       "May 2019            43\n",
       "May 2018            43\n",
       "March 2018          42\n",
       "October 2019        41\n",
       "March 2023          41\n",
       "June 2015           41\n",
       "September 2019      37\n",
       "July 2019           36\n",
       "January 2020        36\n",
       "August 2019         36\n",
       "November 2019       36\n",
       "June 2018           35\n",
       "December 2018       35\n",
       "Name: Date Flown, dtype: int64"
      ]
     },
     "execution_count": 176,
     "metadata": {},
     "output_type": "execute_result"
    }
   ],
   "source": [
    "# Count the occurrences of each date in the 'Date Flown' column\n",
    "df['Date Flown'].value_counts()"
   ]
  },
  {
   "cell_type": "markdown",
   "id": "69170f57",
   "metadata": {},
   "source": [
    "# Data Cleaning on 'Seat Comfort' column"
   ]
  },
  {
   "cell_type": "code",
   "execution_count": 177,
   "id": "ea45dd00",
   "metadata": {},
   "outputs": [
    {
     "data": {
      "text/plain": [
       "3.0    789\n",
       "1.0    747\n",
       "4.0    718\n",
       "2.0    566\n",
       "5.0    408\n",
       "Name: Seat Comfort, dtype: int64"
      ]
     },
     "execution_count": 177,
     "metadata": {},
     "output_type": "execute_result"
    }
   ],
   "source": [
    "# Count the occurrences of each date in the 'Seat Comfort' column\n",
    "df['Seat Comfort'].value_counts()"
   ]
  },
  {
   "cell_type": "code",
   "execution_count": 178,
   "id": "0db3a046",
   "metadata": {},
   "outputs": [
    {
     "data": {
      "text/plain": [
       "110"
      ]
     },
     "execution_count": 178,
     "metadata": {},
     "output_type": "execute_result"
    }
   ],
   "source": [
    "# Count the number of null values in the 'Seat Comfort' column of the DataFrame df\n",
    "df['Seat Comfort'].isnull().sum()"
   ]
  },
  {
   "cell_type": "code",
   "execution_count": 179,
   "id": "cb90d693",
   "metadata": {},
   "outputs": [
    {
     "name": "stderr",
     "output_type": "stream",
     "text": [
      "C:\\Users\\dell\\AppData\\Local\\Temp\\ipykernel_5696\\3306413471.py:5: SettingWithCopyWarning: \n",
      "A value is trying to be set on a copy of a slice from a DataFrame.\n",
      "Try using .loc[row_indexer,col_indexer] = value instead\n",
      "\n",
      "See the caveats in the documentation: https://pandas.pydata.org/pandas-docs/stable/user_guide/indexing.html#returning-a-view-versus-a-copy\n",
      "  df['Seat Comfort'] = df['Seat Comfort'].fillna(median_seat_comfort)\n"
     ]
    }
   ],
   "source": [
    "# Calculate the median value of 'Seat Comfort' in the DataFrame 'df'\n",
    "median_seat_comfort = df['Seat Comfort'].median()\n",
    "\n",
    "# Fill missing values in the 'Seat Comfort' column with the calculated median value\n",
    "df['Seat Comfort'] = df['Seat Comfort'].fillna(median_seat_comfort)"
   ]
  },
  {
   "cell_type": "code",
   "execution_count": 180,
   "id": "32e48e1e",
   "metadata": {},
   "outputs": [
    {
     "data": {
      "text/plain": [
       "<AxesSubplot:>"
      ]
     },
     "execution_count": 180,
     "metadata": {},
     "output_type": "execute_result"
    },
    {
     "data": {
      "image/png": "[encoded data removed]",
      "text/plain": [
       "<Figure size 432x288 with 1 Axes>"
      ]
     },
     "metadata": {
      "needs_background": "light"
     },
     "output_type": "display_data"
    }
   ],
   "source": [
    "# Plotting a bar chart to visualize the distribution of Seat Comfort ratings\n",
    "df['Seat Comfort'].value_counts().plot(kind='bar')"
   ]
  },
  {
   "cell_type": "markdown",
   "id": "c163e0e8",
   "metadata": {},
   "source": [
    "# Data Cleaning on 'Cabin Staff Service' column"
   ]
  },
  {
   "cell_type": "code",
   "execution_count": 181,
   "id": "021b559d",
   "metadata": {},
   "outputs": [
    {
     "data": {
      "text/plain": [
       "120"
      ]
     },
     "execution_count": 181,
     "metadata": {},
     "output_type": "execute_result"
    }
   ],
   "source": [
    "# Count the number of missing values in the 'Cabin Staff Service' column\n",
    "df['Cabin Staff Service'].isnull().sum()"
   ]
  },
  {
   "cell_type": "code",
   "execution_count": 182,
   "id": "eeaf2e5a",
   "metadata": {},
   "outputs": [
    {
     "name": "stderr",
     "output_type": "stream",
     "text": [
      "C:\\Users\\dell\\AppData\\Local\\Temp\\ipykernel_5696\\1407319903.py:5: SettingWithCopyWarning: \n",
      "A value is trying to be set on a copy of a slice from a DataFrame.\n",
      "Try using .loc[row_indexer,col_indexer] = value instead\n",
      "\n",
      "See the caveats in the documentation: https://pandas.pydata.org/pandas-docs/stable/user_guide/indexing.html#returning-a-view-versus-a-copy\n",
      "  df['Cabin Staff Service'] = df['Cabin Staff Service'].fillna(median_Cabin_Staff_Service)\n"
     ]
    }
   ],
   "source": [
    "# Calculate the median value of 'Cabin Staff Service' to fill missing values\n",
    "median_Cabin_Staff_Service = df['Cabin Staff Service'].median()\n",
    "\n",
    "# Fill missing values in 'Cabin Staff Service' with the calculated median\n",
    "df['Cabin Staff Service'] = df['Cabin Staff Service'].fillna(median_Cabin_Staff_Service)"
   ]
  },
  {
   "cell_type": "code",
   "execution_count": 183,
   "id": "69a5a19d",
   "metadata": {},
   "outputs": [
    {
     "data": {
      "text/plain": [
       "<AxesSubplot:>"
      ]
     },
     "execution_count": 183,
     "metadata": {},
     "output_type": "execute_result"
    },
    {
     "data": {
      "image/png": "[encoded data removed]",
      "text/plain": [
       "<Figure size 432x288 with 1 Axes>"
      ]
     },
     "metadata": {
      "needs_background": "light"
     },
     "output_type": "display_data"
    }
   ],
   "source": [
    "# Plot a bar chart to visualize the distribution of 'Cabin Staff Service' values\n",
    "df['Cabin Staff Service'].value_counts().plot(kind='bar')"
   ]
  },
  {
   "cell_type": "markdown",
   "id": "2491d955",
   "metadata": {},
   "source": [
    "# Data Cleaning on 'Food & Beverages' column"
   ]
  },
  {
   "cell_type": "code",
   "execution_count": 184,
   "id": "2c402206",
   "metadata": {},
   "outputs": [
    {
     "data": {
      "text/plain": [
       "371"
      ]
     },
     "execution_count": 184,
     "metadata": {},
     "output_type": "execute_result"
    }
   ],
   "source": [
    "# Count the number of null values in the 'Food & Beverages' column of the DataFrame df\n",
    "df['Food & Beverages'].isnull().sum()"
   ]
  },
  {
   "cell_type": "code",
   "execution_count": 185,
   "id": "bacea76c",
   "metadata": {},
   "outputs": [
    {
     "data": {
      "text/plain": [
       "1.0    906\n",
       "4.0    573\n",
       "3.0    559\n",
       "2.0    532\n",
       "5.0    396\n",
       "0.0      1\n",
       "Name: Food & Beverages, dtype: int64"
      ]
     },
     "execution_count": 185,
     "metadata": {},
     "output_type": "execute_result"
    }
   ],
   "source": [
    "# Count the occurrences of each unique value in the 'Food & Beverages' column\n",
    "df['Food & Beverages'].value_counts()"
   ]
  },
  {
   "cell_type": "code",
   "execution_count": 186,
   "id": "76b11e5b",
   "metadata": {},
   "outputs": [],
   "source": [
    "# Filter the DataFrame 'df' to remove rows where the 'Food & Beverages' column is equal to 0\n",
    "df = df[df['Food & Beverages'] != 0]"
   ]
  },
  {
   "cell_type": "code",
   "execution_count": 187,
   "id": "e1a9e56d",
   "metadata": {},
   "outputs": [
    {
     "data": {
      "text/plain": [
       "1.0    906\n",
       "4.0    573\n",
       "3.0    559\n",
       "2.0    532\n",
       "5.0    396\n",
       "Name: Food & Beverages, dtype: int64"
      ]
     },
     "execution_count": 187,
     "metadata": {},
     "output_type": "execute_result"
    }
   ],
   "source": [
    "# Count the occurrences of each unique value in the 'Food & Beverages' column\n",
    "df['Food & Beverages'].value_counts()"
   ]
  },
  {
   "cell_type": "code",
   "execution_count": 188,
   "id": "d261c010",
   "metadata": {},
   "outputs": [],
   "source": [
    "# Calculate the median of the 'Food & Beverages' column\n",
    "median_Food_Beverages = df['Food & Beverages'].median()\n",
    "\n",
    "# Fill missing values in the 'Food & Beverages' column with the calculated median\n",
    "df['Food & Beverages'] = df['Food & Beverages'].fillna(median_Food_Beverages)"
   ]
  },
  {
   "cell_type": "code",
   "execution_count": 189,
   "id": "32d447b4",
   "metadata": {},
   "outputs": [
    {
     "data": {
      "text/plain": [
       "<AxesSubplot:>"
      ]
     },
     "execution_count": 189,
     "metadata": {},
     "output_type": "execute_result"
    },
    {
     "data": {
      "image/png": "[encoded data removed]",
      "text/plain": [
       "<Figure size 432x288 with 1 Axes>"
      ]
     },
     "metadata": {
      "needs_background": "light"
     },
     "output_type": "display_data"
    }
   ],
   "source": [
    "# Plot a bar chart to visualize the value counts of the 'Food & Beverages' column in the DataFrame 'df'.\n",
    "df['Food & Beverages'].value_counts().plot(kind='bar')"
   ]
  },
  {
   "cell_type": "markdown",
   "id": "826c0f78",
   "metadata": {},
   "source": [
    "# Data Cleaning on 'Inflight Entertainment' column"
   ]
  },
  {
   "cell_type": "code",
   "execution_count": 190,
   "id": "4166bbcd",
   "metadata": {},
   "outputs": [
    {
     "data": {
      "text/plain": [
       "1107"
      ]
     },
     "execution_count": 190,
     "metadata": {},
     "output_type": "execute_result"
    }
   ],
   "source": [
    "# Check how many values in the 'Inflight Entertainment' column of the DataFrame 'df' are null (missing)\n",
    "df['Inflight Entertainment'].isnull().sum()"
   ]
  },
  {
   "cell_type": "code",
   "execution_count": 191,
   "id": "150c1bc3",
   "metadata": {},
   "outputs": [],
   "source": [
    "# Get a list of existing ratings from the 'Inflight Entertainment' column and drop any NaN values\n",
    "existing = df['Inflight Entertainment'].dropna().tolist()\n",
    "\n",
    "# Fill missing values with existing random values\n",
    "for index, row in df.iterrows():\n",
    "    if pd.isna(row['Inflight Entertainment']):\n",
    "        df.at[index, 'Inflight Entertainment'] = random.choice(existing)"
   ]
  },
  {
   "cell_type": "code",
   "execution_count": 192,
   "id": "397e2899",
   "metadata": {},
   "outputs": [
    {
     "data": {
      "text/plain": [
       "1.0    993\n",
       "3.0    744\n",
       "4.0    605\n",
       "2.0    593\n",
       "5.0    399\n",
       "0.0      3\n",
       "Name: Inflight Entertainment, dtype: int64"
      ]
     },
     "execution_count": 192,
     "metadata": {},
     "output_type": "execute_result"
    }
   ],
   "source": [
    "# Count the occurrences of each value in the 'Inflight Entertainment' column\n",
    "df['Inflight Entertainment'].value_counts()"
   ]
  },
  {
   "cell_type": "code",
   "execution_count": 193,
   "id": "2453dc36",
   "metadata": {},
   "outputs": [],
   "source": [
    "# Filter the DataFrame 'df' to remove rows where 'Inflight Entertainment' is equal to 0\n",
    "df = df[df['Inflight Entertainment'] != 0]"
   ]
  },
  {
   "cell_type": "code",
   "execution_count": 194,
   "id": "a3b2ec4a",
   "metadata": {},
   "outputs": [
    {
     "data": {
      "text/plain": [
       "<AxesSubplot:>"
      ]
     },
     "execution_count": 194,
     "metadata": {},
     "output_type": "execute_result"
    },
    {
     "data": {
      "image/png": "[encoded data removed]",
      "text/plain": [
       "<Figure size 432x288 with 1 Axes>"
      ]
     },
     "metadata": {
      "needs_background": "light"
     },
     "output_type": "display_data"
    }
   ],
   "source": [
    "# Plot a bar chart to visualize the counts of 'Inflight Entertainment' values in the DataFrame 'df'\n",
    "df['Inflight Entertainment'].value_counts().plot(kind='bar')"
   ]
  },
  {
   "cell_type": "markdown",
   "id": "d4755bce",
   "metadata": {},
   "source": [
    "# Data Cleaning on 'Ground Service' column"
   ]
  },
  {
   "cell_type": "code",
   "execution_count": 195,
   "id": "1f83d947",
   "metadata": {},
   "outputs": [
    {
     "data": {
      "text/plain": [
       "550"
      ]
     },
     "execution_count": 195,
     "metadata": {},
     "output_type": "execute_result"
    }
   ],
   "source": [
    "# Count the number of null values in the 'Ground Service' column\n",
    "df['Ground Service'].isnull().sum()"
   ]
  },
  {
   "cell_type": "code",
   "execution_count": 196,
   "id": "04cea7fd",
   "metadata": {},
   "outputs": [],
   "source": [
    "# Get a list of existing ratings from the 'Ground Service' column and drop any NaN values\n",
    "existing = df['Ground Service'].dropna().tolist()\n",
    "\n",
    "# Fill missing values with existing random values\n",
    "for index, row in df.iterrows():\n",
    "    if pd.isna(row['Ground Service']):\n",
    "        df.at[index, 'Ground Service'] = random.choice(existing)"
   ]
  },
  {
   "cell_type": "code",
   "execution_count": 197,
   "id": "eba0b2d3",
   "metadata": {},
   "outputs": [
    {
     "data": {
      "text/plain": [
       "0"
      ]
     },
     "execution_count": 197,
     "metadata": {},
     "output_type": "execute_result"
    }
   ],
   "source": [
    "# Count the number of null values in the 'Ground Service' column\n",
    "df['Ground Service'].isnull().sum()"
   ]
  },
  {
   "cell_type": "code",
   "execution_count": 198,
   "id": "47a2ba36",
   "metadata": {},
   "outputs": [
    {
     "data": {
      "text/plain": [
       "1.0    1002\n",
       "4.0     749\n",
       "3.0     660\n",
       "5.0     501\n",
       "2.0     422\n",
       "Name: Ground Service, dtype: int64"
      ]
     },
     "execution_count": 198,
     "metadata": {},
     "output_type": "execute_result"
    }
   ],
   "source": [
    "# Count the occurrences of each value in the 'Inflight Entertainment' column\n",
    "df['Ground Service'].value_counts()"
   ]
  },
  {
   "cell_type": "code",
   "execution_count": 199,
   "id": "e7105f6f",
   "metadata": {},
   "outputs": [
    {
     "data": {
      "text/plain": [
       "<AxesSubplot:>"
      ]
     },
     "execution_count": 199,
     "metadata": {},
     "output_type": "execute_result"
    },
    {
     "data": {
      "image/png": "[encoded data removed]",
      "text/plain": [
       "<Figure size 432x288 with 1 Axes>"
      ]
     },
     "metadata": {
      "needs_background": "light"
     },
     "output_type": "display_data"
    }
   ],
   "source": [
    "# Plot a bar chart to visualize the value counts of the 'Ground Service' column in the DataFrame 'df'.\n",
    "df['Ground Service'].value_counts().plot(kind='bar')"
   ]
  },
  {
   "cell_type": "markdown",
   "id": "63bfbeb0",
   "metadata": {},
   "source": [
    "# Data Cleaning on 'Wifi & Connectivity' column"
   ]
  },
  {
   "cell_type": "code",
   "execution_count": 200,
   "id": "33ede603",
   "metadata": {},
   "outputs": [
    {
     "data": {
      "text/plain": [
       "82.54349130173965"
      ]
     },
     "execution_count": 200,
     "metadata": {},
     "output_type": "execute_result"
    }
   ],
   "source": [
    "# Count the number of null values in the 'Wifi & Connectivity' column\n",
    "df['Wifi & Connectivity'].isnull().mean()*100"
   ]
  },
  {
   "cell_type": "code",
   "execution_count": 201,
   "id": "7cae280c",
   "metadata": {},
   "outputs": [],
   "source": [
    "# As we can see that almost 83% of the data is missing from the 'Wifi & Connectivity' column, so it is better to drop this column\n",
    "\n",
    "df.drop(columns=['Wifi & Connectivity'], inplace=True)"
   ]
  },
  {
   "cell_type": "markdown",
   "id": "84bd809c",
   "metadata": {},
   "source": [
    "# Data Cleaning on 'Value For Money' column"
   ]
  },
  {
   "cell_type": "code",
   "execution_count": 202,
   "id": "1115bd4f",
   "metadata": {},
   "outputs": [
    {
     "data": {
      "text/plain": [
       "0.0"
      ]
     },
     "execution_count": 202,
     "metadata": {},
     "output_type": "execute_result"
    }
   ],
   "source": [
    "# Count the number of null values in the 'Value For Money' column\n",
    "df['Value For Money'].isnull().mean()*100"
   ]
  },
  {
   "cell_type": "code",
   "execution_count": 203,
   "id": "03024334",
   "metadata": {},
   "outputs": [
    {
     "data": {
      "text/plain": [
       "1    1102\n",
       "3     624\n",
       "4     593\n",
       "2     545\n",
       "5     470\n",
       "Name: Value For Money, dtype: int64"
      ]
     },
     "execution_count": 203,
     "metadata": {},
     "output_type": "execute_result"
    }
   ],
   "source": [
    "# Counting value of the 'Value For Money' column in the DataFrame 'df'.\n",
    "df['Value For Money'].value_counts()"
   ]
  },
  {
   "cell_type": "code",
   "execution_count": 204,
   "id": "aa0a0de4",
   "metadata": {},
   "outputs": [
    {
     "data": {
      "text/plain": [
       "<AxesSubplot:>"
      ]
     },
     "execution_count": 204,
     "metadata": {},
     "output_type": "execute_result"
    },
    {
     "data": {
      "image/png": "[encoded data removed]",
      "text/plain": [
       "<Figure size 432x288 with 1 Axes>"
      ]
     },
     "metadata": {
      "needs_background": "light"
     },
     "output_type": "display_data"
    }
   ],
   "source": [
    "# Plot a bar chart to visualize the value counts of the 'Value For Money' column in the DataFrame 'df'.\n",
    "df['Value For Money'].value_counts().plot(kind='bar')"
   ]
  },
  {
   "cell_type": "markdown",
   "id": "7c3e90ef",
   "metadata": {},
   "source": [
    "# Data Cleaning on 'Recommended' column"
   ]
  },
  {
   "cell_type": "code",
   "execution_count": 205,
   "id": "582e0fb8",
   "metadata": {},
   "outputs": [
    {
     "data": {
      "text/plain": [
       "0.0"
      ]
     },
     "execution_count": 205,
     "metadata": {},
     "output_type": "execute_result"
    }
   ],
   "source": [
    "# Count the number of null values in the 'Recommended' column\n",
    "df['Recommended'].isnull().mean()*100"
   ]
  },
  {
   "cell_type": "code",
   "execution_count": 206,
   "id": "3c4e7e03",
   "metadata": {},
   "outputs": [],
   "source": [
    "# Assuming df is your DataFrame\n",
    "\n",
    "# Create a mapping dictionary\n",
    "mapping = {'yes': 1, 'no': 0}\n",
    "\n",
    "# Use the map function to replace values\n",
    "df['Recommended'] = df['Recommended'].map(mapping)"
   ]
  },
  {
   "cell_type": "code",
   "execution_count": 207,
   "id": "2c7c0ed9",
   "metadata": {},
   "outputs": [
    {
     "data": {
      "text/plain": [
       "0    2039\n",
       "1    1295\n",
       "Name: Recommended, dtype: int64"
      ]
     },
     "execution_count": 207,
     "metadata": {},
     "output_type": "execute_result"
    }
   ],
   "source": [
    "# Counting value of the 'Recommended' column in the DataFrame 'df'.\n",
    "df['Recommended'].value_counts()"
   ]
  },
  {
   "cell_type": "code",
   "execution_count": 208,
   "id": "1eb179eb",
   "metadata": {},
   "outputs": [
    {
     "data": {
      "text/plain": [
       "<AxesSubplot:>"
      ]
     },
     "execution_count": 208,
     "metadata": {},
     "output_type": "execute_result"
    },
    {
     "data": {
      "image/png": "[encoded data removed]",
      "text/plain": [
       "<Figure size 432x288 with 1 Axes>"
      ]
     },
     "metadata": {
      "needs_background": "light"
     },
     "output_type": "display_data"
    }
   ],
   "source": [
    "# Plot a bar chart to visualize the value counts of the 'Recommended column in the DataFrame 'df'.\n",
    "df['Recommended'].value_counts().plot(kind='bar')"
   ]
  },
  {
   "cell_type": "markdown",
   "id": "a6c6a43d",
   "metadata": {},
   "source": [
    "# Converting datatype of columns"
   ]
  },
  {
   "cell_type": "code",
   "execution_count": 209,
   "id": "1d1ea748",
   "metadata": {},
   "outputs": [],
   "source": [
    "columns_to_convert = ['Seat Comfort', 'Cabin Staff Service', 'Food & Beverages', \n",
    "                      'Inflight Entertainment', 'Ground Service', 'Value For Money']\n",
    "\n",
    "# Loop through the columns and convert to integer\n",
    "for column in columns_to_convert:\n",
    "    df[column] = df[column].astype(int)"
   ]
  },
  {
   "cell_type": "markdown",
   "id": "94d074fb",
   "metadata": {},
   "source": [
    "# Reordering the columns"
   ]
  },
  {
   "cell_type": "code",
   "execution_count": 216,
   "id": "fa590342",
   "metadata": {},
   "outputs": [
    {
     "data": {
      "text/html": [
       "<div>\n",
       "<style scoped>\n",
       "    .dataframe tbody tr th:only-of-type {\n",
       "        vertical-align: middle;\n",
       "    }\n",
       "\n",
       "    .dataframe tbody tr th {\n",
       "        vertical-align: top;\n",
       "    }\n",
       "\n",
       "    .dataframe thead th {\n",
       "        text-align: right;\n",
       "    }\n",
       "</style>\n",
       "<table border=\"1\" class=\"dataframe\">\n",
       "  <thead>\n",
       "    <tr style=\"text-align: right;\">\n",
       "      <th></th>\n",
       "      <th>Aircraft</th>\n",
       "      <th>Type Of Traveller</th>\n",
       "      <th>Seat Type</th>\n",
       "      <th>Route</th>\n",
       "      <th>Date Flown</th>\n",
       "      <th>Seat Comfort</th>\n",
       "      <th>Cabin Staff Service</th>\n",
       "      <th>Food &amp; Beverages</th>\n",
       "      <th>Ground Service</th>\n",
       "      <th>Value For Money</th>\n",
       "      <th>Inflight Entertainment</th>\n",
       "      <th>Recommended</th>\n",
       "    </tr>\n",
       "  </thead>\n",
       "  <tbody>\n",
       "    <tr>\n",
       "      <th>0</th>\n",
       "      <td>A320</td>\n",
       "      <td>Couple Leisure</td>\n",
       "      <td>Business Class</td>\n",
       "      <td>Other</td>\n",
       "      <td>Other</td>\n",
       "      <td>1</td>\n",
       "      <td>3</td>\n",
       "      <td>1</td>\n",
       "      <td>1</td>\n",
       "      <td>1</td>\n",
       "      <td>5</td>\n",
       "      <td>0</td>\n",
       "    </tr>\n",
       "    <tr>\n",
       "      <th>1</th>\n",
       "      <td>A320</td>\n",
       "      <td>Business</td>\n",
       "      <td>Business Class</td>\n",
       "      <td>Other</td>\n",
       "      <td>Other</td>\n",
       "      <td>2</td>\n",
       "      <td>2</td>\n",
       "      <td>2</td>\n",
       "      <td>1</td>\n",
       "      <td>2</td>\n",
       "      <td>5</td>\n",
       "      <td>0</td>\n",
       "    </tr>\n",
       "    <tr>\n",
       "      <th>2</th>\n",
       "      <td>Not available</td>\n",
       "      <td>Couple Leisure</td>\n",
       "      <td>Economy Class</td>\n",
       "      <td>Other</td>\n",
       "      <td>Other</td>\n",
       "      <td>3</td>\n",
       "      <td>3</td>\n",
       "      <td>3</td>\n",
       "      <td>1</td>\n",
       "      <td>1</td>\n",
       "      <td>3</td>\n",
       "      <td>0</td>\n",
       "    </tr>\n",
       "    <tr>\n",
       "      <th>3</th>\n",
       "      <td>Not available</td>\n",
       "      <td>Business</td>\n",
       "      <td>Business Class</td>\n",
       "      <td>London to Johannesburg</td>\n",
       "      <td>Other</td>\n",
       "      <td>3</td>\n",
       "      <td>2</td>\n",
       "      <td>3</td>\n",
       "      <td>2</td>\n",
       "      <td>1</td>\n",
       "      <td>2</td>\n",
       "      <td>0</td>\n",
       "    </tr>\n",
       "    <tr>\n",
       "      <th>4</th>\n",
       "      <td>Other</td>\n",
       "      <td>Couple Leisure</td>\n",
       "      <td>Business Class</td>\n",
       "      <td>Other</td>\n",
       "      <td>Other</td>\n",
       "      <td>4</td>\n",
       "      <td>5</td>\n",
       "      <td>3</td>\n",
       "      <td>5</td>\n",
       "      <td>4</td>\n",
       "      <td>5</td>\n",
       "      <td>1</td>\n",
       "    </tr>\n",
       "    <tr>\n",
       "      <th>...</th>\n",
       "      <td>...</td>\n",
       "      <td>...</td>\n",
       "      <td>...</td>\n",
       "      <td>...</td>\n",
       "      <td>...</td>\n",
       "      <td>...</td>\n",
       "      <td>...</td>\n",
       "      <td>...</td>\n",
       "      <td>...</td>\n",
       "      <td>...</td>\n",
       "      <td>...</td>\n",
       "      <td>...</td>\n",
       "    </tr>\n",
       "    <tr>\n",
       "      <th>3494</th>\n",
       "      <td>Not available</td>\n",
       "      <td>Business</td>\n",
       "      <td>First Class</td>\n",
       "      <td>Other</td>\n",
       "      <td>Other</td>\n",
       "      <td>3</td>\n",
       "      <td>4</td>\n",
       "      <td>2</td>\n",
       "      <td>4</td>\n",
       "      <td>3</td>\n",
       "      <td>2</td>\n",
       "      <td>0</td>\n",
       "    </tr>\n",
       "    <tr>\n",
       "      <th>3495</th>\n",
       "      <td>Not available</td>\n",
       "      <td>Couple Leisure</td>\n",
       "      <td>Economy Class</td>\n",
       "      <td>Other</td>\n",
       "      <td>October 2017</td>\n",
       "      <td>4</td>\n",
       "      <td>3</td>\n",
       "      <td>1</td>\n",
       "      <td>4</td>\n",
       "      <td>1</td>\n",
       "      <td>3</td>\n",
       "      <td>0</td>\n",
       "    </tr>\n",
       "    <tr>\n",
       "      <th>3496</th>\n",
       "      <td>Not available</td>\n",
       "      <td>Couple Leisure</td>\n",
       "      <td>Business Class</td>\n",
       "      <td>Other</td>\n",
       "      <td>November 2015</td>\n",
       "      <td>4</td>\n",
       "      <td>2</td>\n",
       "      <td>4</td>\n",
       "      <td>2</td>\n",
       "      <td>5</td>\n",
       "      <td>3</td>\n",
       "      <td>1</td>\n",
       "    </tr>\n",
       "    <tr>\n",
       "      <th>3498</th>\n",
       "      <td>Not available</td>\n",
       "      <td>Business</td>\n",
       "      <td>Premium Economy</td>\n",
       "      <td>Other</td>\n",
       "      <td>July 2016</td>\n",
       "      <td>3</td>\n",
       "      <td>4</td>\n",
       "      <td>3</td>\n",
       "      <td>3</td>\n",
       "      <td>3</td>\n",
       "      <td>1</td>\n",
       "      <td>0</td>\n",
       "    </tr>\n",
       "    <tr>\n",
       "      <th>3499</th>\n",
       "      <td>Not available</td>\n",
       "      <td>Couple Leisure</td>\n",
       "      <td>Business Class</td>\n",
       "      <td>Other</td>\n",
       "      <td>December 2015</td>\n",
       "      <td>5</td>\n",
       "      <td>5</td>\n",
       "      <td>4</td>\n",
       "      <td>3</td>\n",
       "      <td>4</td>\n",
       "      <td>1</td>\n",
       "      <td>1</td>\n",
       "    </tr>\n",
       "  </tbody>\n",
       "</table>\n",
       "<p>3258 rows × 12 columns</p>\n",
       "</div>"
      ],
      "text/plain": [
       "           Aircraft Type Of Traveller        Seat Type  \\\n",
       "0              A320    Couple Leisure   Business Class   \n",
       "1              A320          Business   Business Class   \n",
       "2     Not available    Couple Leisure    Economy Class   \n",
       "3     Not available          Business   Business Class   \n",
       "4             Other    Couple Leisure   Business Class   \n",
       "...             ...               ...              ...   \n",
       "3494  Not available          Business      First Class   \n",
       "3495  Not available    Couple Leisure    Economy Class   \n",
       "3496  Not available    Couple Leisure   Business Class   \n",
       "3498  Not available          Business  Premium Economy   \n",
       "3499  Not available    Couple Leisure   Business Class   \n",
       "\n",
       "                       Route     Date Flown  Seat Comfort  \\\n",
       "0                      Other          Other             1   \n",
       "1                      Other          Other             2   \n",
       "2                      Other          Other             3   \n",
       "3     London to Johannesburg          Other             3   \n",
       "4                      Other          Other             4   \n",
       "...                      ...            ...           ...   \n",
       "3494                   Other          Other             3   \n",
       "3495                   Other   October 2017             4   \n",
       "3496                   Other  November 2015             4   \n",
       "3498                   Other      July 2016             3   \n",
       "3499                   Other  December 2015             5   \n",
       "\n",
       "      Cabin Staff Service  Food & Beverages  Ground Service  Value For Money  \\\n",
       "0                       3                 1               1                1   \n",
       "1                       2                 2               1                2   \n",
       "2                       3                 3               1                1   \n",
       "3                       2                 3               2                1   \n",
       "4                       5                 3               5                4   \n",
       "...                   ...               ...             ...              ...   \n",
       "3494                    4                 2               4                3   \n",
       "3495                    3                 1               4                1   \n",
       "3496                    2                 4               2                5   \n",
       "3498                    4                 3               3                3   \n",
       "3499                    5                 4               3                4   \n",
       "\n",
       "      Inflight Entertainment  Recommended  \n",
       "0                          5            0  \n",
       "1                          5            0  \n",
       "2                          3            0  \n",
       "3                          2            0  \n",
       "4                          5            1  \n",
       "...                      ...          ...  \n",
       "3494                       2            0  \n",
       "3495                       3            0  \n",
       "3496                       3            1  \n",
       "3498                       1            0  \n",
       "3499                       1            1  \n",
       "\n",
       "[3258 rows x 12 columns]"
      ]
     },
     "execution_count": 216,
     "metadata": {},
     "output_type": "execute_result"
    }
   ],
   "source": [
    "# Reorder the columns so that target column 'Recommended' is the last column\n",
    "column_order = [col for col in df.columns if col != 'Recommended'] + ['Recommended']\n",
    "df = df[column_order]\n",
    "\n",
    "df"
   ]
  },
  {
   "cell_type": "markdown",
   "id": "eed2747f",
   "metadata": {},
   "source": [
    "# Reviewing the data one time again after the cleaning"
   ]
  },
  {
   "cell_type": "code",
   "execution_count": 217,
   "id": "2212a803",
   "metadata": {},
   "outputs": [
    {
     "data": {
      "text/html": [
       "<div>\n",
       "<style scoped>\n",
       "    .dataframe tbody tr th:only-of-type {\n",
       "        vertical-align: middle;\n",
       "    }\n",
       "\n",
       "    .dataframe tbody tr th {\n",
       "        vertical-align: top;\n",
       "    }\n",
       "\n",
       "    .dataframe thead th {\n",
       "        text-align: right;\n",
       "    }\n",
       "</style>\n",
       "<table border=\"1\" class=\"dataframe\">\n",
       "  <thead>\n",
       "    <tr style=\"text-align: right;\">\n",
       "      <th></th>\n",
       "      <th>Aircraft</th>\n",
       "      <th>Type Of Traveller</th>\n",
       "      <th>Seat Type</th>\n",
       "      <th>Route</th>\n",
       "      <th>Date Flown</th>\n",
       "      <th>Seat Comfort</th>\n",
       "      <th>Cabin Staff Service</th>\n",
       "      <th>Food &amp; Beverages</th>\n",
       "      <th>Ground Service</th>\n",
       "      <th>Value For Money</th>\n",
       "      <th>Inflight Entertainment</th>\n",
       "      <th>Recommended</th>\n",
       "    </tr>\n",
       "  </thead>\n",
       "  <tbody>\n",
       "    <tr>\n",
       "      <th>0</th>\n",
       "      <td>A320</td>\n",
       "      <td>Couple Leisure</td>\n",
       "      <td>Business Class</td>\n",
       "      <td>Other</td>\n",
       "      <td>Other</td>\n",
       "      <td>1</td>\n",
       "      <td>3</td>\n",
       "      <td>1</td>\n",
       "      <td>1</td>\n",
       "      <td>1</td>\n",
       "      <td>5</td>\n",
       "      <td>0</td>\n",
       "    </tr>\n",
       "    <tr>\n",
       "      <th>1</th>\n",
       "      <td>A320</td>\n",
       "      <td>Business</td>\n",
       "      <td>Business Class</td>\n",
       "      <td>Other</td>\n",
       "      <td>Other</td>\n",
       "      <td>2</td>\n",
       "      <td>2</td>\n",
       "      <td>2</td>\n",
       "      <td>1</td>\n",
       "      <td>2</td>\n",
       "      <td>5</td>\n",
       "      <td>0</td>\n",
       "    </tr>\n",
       "    <tr>\n",
       "      <th>2</th>\n",
       "      <td>Not available</td>\n",
       "      <td>Couple Leisure</td>\n",
       "      <td>Economy Class</td>\n",
       "      <td>Other</td>\n",
       "      <td>Other</td>\n",
       "      <td>3</td>\n",
       "      <td>3</td>\n",
       "      <td>3</td>\n",
       "      <td>1</td>\n",
       "      <td>1</td>\n",
       "      <td>3</td>\n",
       "      <td>0</td>\n",
       "    </tr>\n",
       "    <tr>\n",
       "      <th>3</th>\n",
       "      <td>Not available</td>\n",
       "      <td>Business</td>\n",
       "      <td>Business Class</td>\n",
       "      <td>London to Johannesburg</td>\n",
       "      <td>Other</td>\n",
       "      <td>3</td>\n",
       "      <td>2</td>\n",
       "      <td>3</td>\n",
       "      <td>2</td>\n",
       "      <td>1</td>\n",
       "      <td>2</td>\n",
       "      <td>0</td>\n",
       "    </tr>\n",
       "    <tr>\n",
       "      <th>4</th>\n",
       "      <td>Other</td>\n",
       "      <td>Couple Leisure</td>\n",
       "      <td>Business Class</td>\n",
       "      <td>Other</td>\n",
       "      <td>Other</td>\n",
       "      <td>4</td>\n",
       "      <td>5</td>\n",
       "      <td>3</td>\n",
       "      <td>5</td>\n",
       "      <td>4</td>\n",
       "      <td>5</td>\n",
       "      <td>1</td>\n",
       "    </tr>\n",
       "    <tr>\n",
       "      <th>...</th>\n",
       "      <td>...</td>\n",
       "      <td>...</td>\n",
       "      <td>...</td>\n",
       "      <td>...</td>\n",
       "      <td>...</td>\n",
       "      <td>...</td>\n",
       "      <td>...</td>\n",
       "      <td>...</td>\n",
       "      <td>...</td>\n",
       "      <td>...</td>\n",
       "      <td>...</td>\n",
       "      <td>...</td>\n",
       "    </tr>\n",
       "    <tr>\n",
       "      <th>3494</th>\n",
       "      <td>Not available</td>\n",
       "      <td>Business</td>\n",
       "      <td>First Class</td>\n",
       "      <td>Other</td>\n",
       "      <td>Other</td>\n",
       "      <td>3</td>\n",
       "      <td>4</td>\n",
       "      <td>2</td>\n",
       "      <td>4</td>\n",
       "      <td>3</td>\n",
       "      <td>2</td>\n",
       "      <td>0</td>\n",
       "    </tr>\n",
       "    <tr>\n",
       "      <th>3495</th>\n",
       "      <td>Not available</td>\n",
       "      <td>Couple Leisure</td>\n",
       "      <td>Economy Class</td>\n",
       "      <td>Other</td>\n",
       "      <td>October 2017</td>\n",
       "      <td>4</td>\n",
       "      <td>3</td>\n",
       "      <td>1</td>\n",
       "      <td>4</td>\n",
       "      <td>1</td>\n",
       "      <td>3</td>\n",
       "      <td>0</td>\n",
       "    </tr>\n",
       "    <tr>\n",
       "      <th>3496</th>\n",
       "      <td>Not available</td>\n",
       "      <td>Couple Leisure</td>\n",
       "      <td>Business Class</td>\n",
       "      <td>Other</td>\n",
       "      <td>November 2015</td>\n",
       "      <td>4</td>\n",
       "      <td>2</td>\n",
       "      <td>4</td>\n",
       "      <td>2</td>\n",
       "      <td>5</td>\n",
       "      <td>3</td>\n",
       "      <td>1</td>\n",
       "    </tr>\n",
       "    <tr>\n",
       "      <th>3498</th>\n",
       "      <td>Not available</td>\n",
       "      <td>Business</td>\n",
       "      <td>Premium Economy</td>\n",
       "      <td>Other</td>\n",
       "      <td>July 2016</td>\n",
       "      <td>3</td>\n",
       "      <td>4</td>\n",
       "      <td>3</td>\n",
       "      <td>3</td>\n",
       "      <td>3</td>\n",
       "      <td>1</td>\n",
       "      <td>0</td>\n",
       "    </tr>\n",
       "    <tr>\n",
       "      <th>3499</th>\n",
       "      <td>Not available</td>\n",
       "      <td>Couple Leisure</td>\n",
       "      <td>Business Class</td>\n",
       "      <td>Other</td>\n",
       "      <td>December 2015</td>\n",
       "      <td>5</td>\n",
       "      <td>5</td>\n",
       "      <td>4</td>\n",
       "      <td>3</td>\n",
       "      <td>4</td>\n",
       "      <td>1</td>\n",
       "      <td>1</td>\n",
       "    </tr>\n",
       "  </tbody>\n",
       "</table>\n",
       "<p>3258 rows × 12 columns</p>\n",
       "</div>"
      ],
      "text/plain": [
       "           Aircraft Type Of Traveller        Seat Type  \\\n",
       "0              A320    Couple Leisure   Business Class   \n",
       "1              A320          Business   Business Class   \n",
       "2     Not available    Couple Leisure    Economy Class   \n",
       "3     Not available          Business   Business Class   \n",
       "4             Other    Couple Leisure   Business Class   \n",
       "...             ...               ...              ...   \n",
       "3494  Not available          Business      First Class   \n",
       "3495  Not available    Couple Leisure    Economy Class   \n",
       "3496  Not available    Couple Leisure   Business Class   \n",
       "3498  Not available          Business  Premium Economy   \n",
       "3499  Not available    Couple Leisure   Business Class   \n",
       "\n",
       "                       Route     Date Flown  Seat Comfort  \\\n",
       "0                      Other          Other             1   \n",
       "1                      Other          Other             2   \n",
       "2                      Other          Other             3   \n",
       "3     London to Johannesburg          Other             3   \n",
       "4                      Other          Other             4   \n",
       "...                      ...            ...           ...   \n",
       "3494                   Other          Other             3   \n",
       "3495                   Other   October 2017             4   \n",
       "3496                   Other  November 2015             4   \n",
       "3498                   Other      July 2016             3   \n",
       "3499                   Other  December 2015             5   \n",
       "\n",
       "      Cabin Staff Service  Food & Beverages  Ground Service  Value For Money  \\\n",
       "0                       3                 1               1                1   \n",
       "1                       2                 2               1                2   \n",
       "2                       3                 3               1                1   \n",
       "3                       2                 3               2                1   \n",
       "4                       5                 3               5                4   \n",
       "...                   ...               ...             ...              ...   \n",
       "3494                    4                 2               4                3   \n",
       "3495                    3                 1               4                1   \n",
       "3496                    2                 4               2                5   \n",
       "3498                    4                 3               3                3   \n",
       "3499                    5                 4               3                4   \n",
       "\n",
       "      Inflight Entertainment  Recommended  \n",
       "0                          5            0  \n",
       "1                          5            0  \n",
       "2                          3            0  \n",
       "3                          2            0  \n",
       "4                          5            1  \n",
       "...                      ...          ...  \n",
       "3494                       2            0  \n",
       "3495                       3            0  \n",
       "3496                       3            1  \n",
       "3498                       1            0  \n",
       "3499                       1            1  \n",
       "\n",
       "[3258 rows x 12 columns]"
      ]
     },
     "execution_count": 217,
     "metadata": {},
     "output_type": "execute_result"
    }
   ],
   "source": [
    "df"
   ]
  },
  {
   "cell_type": "code",
   "execution_count": 218,
   "id": "7d3b2399",
   "metadata": {},
   "outputs": [
    {
     "data": {
      "text/plain": [
       "Aircraft                  0\n",
       "Type Of Traveller         0\n",
       "Seat Type                 0\n",
       "Route                     0\n",
       "Date Flown                0\n",
       "Seat Comfort              0\n",
       "Cabin Staff Service       0\n",
       "Food & Beverages          0\n",
       "Ground Service            0\n",
       "Value For Money           0\n",
       "Inflight Entertainment    0\n",
       "Recommended               0\n",
       "dtype: int64"
      ]
     },
     "execution_count": 218,
     "metadata": {},
     "output_type": "execute_result"
    }
   ],
   "source": [
    "# Null values in dataset?\n",
    "df.isnull().sum()"
   ]
  },
  {
   "cell_type": "code",
   "execution_count": 219,
   "id": "1672bd21",
   "metadata": {},
   "outputs": [
    {
     "data": {
      "text/plain": [
       "0"
      ]
     },
     "execution_count": 219,
     "metadata": {},
     "output_type": "execute_result"
    }
   ],
   "source": [
    "# Is there any duplicate value in dataset?\n",
    "df.duplicated().sum()"
   ]
  },
  {
   "cell_type": "code",
   "execution_count": 220,
   "id": "5d1ea49d",
   "metadata": {},
   "outputs": [],
   "source": [
    "# Dropping the duplicate value\n",
    "df = df.drop_duplicates()"
   ]
  },
  {
   "cell_type": "code",
   "execution_count": 221,
   "id": "3f6a6107",
   "metadata": {},
   "outputs": [
    {
     "data": {
      "text/plain": [
       "(3258, 12)"
      ]
     },
     "execution_count": 221,
     "metadata": {},
     "output_type": "execute_result"
    }
   ],
   "source": [
    "# Shape of dataset\n",
    "df.shape"
   ]
  },
  {
   "cell_type": "code",
   "execution_count": 222,
   "id": "14a69d7d",
   "metadata": {},
   "outputs": [],
   "source": [
    "df.to_csv('df.csv', index=False)"
   ]
  }
 ],
 "metadata": {
  "kernelspec": {
   "display_name": "Python 3 (ipykernel)",
   "language": "python",
   "name": "python3"
  },
  "language_info": {
   "codemirror_mode": {
    "name": "ipython",
    "version": 3
   },
   "file_extension": ".py",
   "mimetype": "text/x-python",
   "name": "python",
   "nbconvert_exporter": "python",
   "pygments_lexer": "ipython3",
   "version": "3.9.12"
  }
 },
 "nbformat": 4,
 "nbformat_minor": 5
}
